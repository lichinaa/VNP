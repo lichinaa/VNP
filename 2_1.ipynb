{
  "nbformat": 4,
  "nbformat_minor": 0,
  "metadata": {
    "colab": {
      "provenance": []
    },
    "kernelspec": {
      "name": "python3",
      "display_name": "Python 3"
    },
    "language_info": {
      "name": "python"
    }
  },
  "cells": [
    {
      "cell_type": "markdown",
      "source": [
        "# Task 2\n",
        "\n",
        "Perform hyper-parameter tuning on the DecisionTree algorithm in order to predict the target column \"packed_cell_volume\" for the status of each horse in the dataset. Use 5-fold cross-validation for the hyper-parameter tuning, tune the parameters \"criterion\", \"max_depth\", and \"min_samples_split\". Provide at least 3 values for each parameter."
      ],
      "metadata": {
        "id": "sRbkPJAzQPY5"
      }
    },
    {
      "cell_type": "markdown",
      "source": [
        "## Dataset description\n",
        "\n",
        "### Features\n",
        "\n",
        "* id - horse identifier\n",
        "* surgery - was the horse in surgery (0 - no, 1 - yes)\n",
        "* age - if the horse is young or old (0 - old, 1 - young)\n",
        "* hospital_number - the identifier of the hospital the horse was treated in\n",
        "* rectal_temp - the horse's rectal temperature\n",
        "* pulse - the horse's pulse\n",
        "* respiratory_rate - the horse's respiratory rate\n",
        "* temp_of_extremities - the horse's temperature of the extremities (represented as categories ordered by intensity)\n",
        "* nasogastric_reflux_ph - ph value of the horse's nasogastric reflux\n",
        "* total_protein - horse's total protein value\n",
        "* abdomo_protein - horse's abdominal protein value\n",
        "* surgical_lesion - whether the horse has a surgical lesion or not\n",
        "* lesion_1 - size of the lesion (0 if the horse doesn't have one)\n",
        "* cp_data - binary variable\n",
        "\n",
        "### Target variable\n",
        "* packed_cell_volume - volume of horse's packed cells"
      ],
      "metadata": {
        "id": "JUbFeMNUQneg"
      }
    },
    {
      "cell_type": "markdown",
      "source": [
        "### Download the dataset"
      ],
      "metadata": {
        "id": "4bEbqyd3SXnC"
      }
    },
    {
      "cell_type": "code",
      "execution_count": null,
      "metadata": {
        "id": "_TYfTvvBPTnK",
        "colab": {
          "base_uri": "https://localhost:8080/"
        },
        "outputId": "0ba868a5-aebf-493c-950f-62ae1864c3bd"
      },
      "outputs": [
        {
          "output_type": "stream",
          "name": "stdout",
          "text": [
            "Downloading...\n",
            "From: https://drive.google.com/uc?id=1-6y_xGi204yBOq8q_4-i1J-afXxVBHKB\n",
            "To: /content/data_g2.csv\n",
            "\r  0% 0.00/72.4k [00:00<?, ?B/s]\r100% 72.4k/72.4k [00:00<00:00, 4.35MB/s]\n"
          ]
        }
      ],
      "source": [
        "! gdown 1-6y_xGi204yBOq8q_4-i1J-afXxVBHKB"
      ]
    },
    {
      "cell_type": "markdown",
      "source": [
        "### Read the dataset"
      ],
      "metadata": {
        "id": "QQIRVprQSa0p"
      }
    },
    {
      "cell_type": "code",
      "source": [
        "import pandas as pd\n",
        "import numpy as np\n",
        "import matplotlib.pyplot as plt\n",
        "import seaborn as sns\n",
        "import missingno as msno\n",
        "from sklearn.impute import SimpleImputer, KNNImputer\n",
        "from sklearn.preprocessing import MinMaxScaler"
      ],
      "metadata": {
        "id": "XpO_W79nSc-D"
      },
      "execution_count": null,
      "outputs": []
    },
    {
      "cell_type": "code",
      "source": [
        "data = pd.read_csv('/content/data_g2.csv')"
      ],
      "metadata": {
        "id": "oZlgxHFUhNPC"
      },
      "execution_count": null,
      "outputs": []
    },
    {
      "cell_type": "code",
      "source": [
        "data.head(3)"
      ],
      "metadata": {
        "colab": {
          "base_uri": "https://localhost:8080/",
          "height": 143
        },
        "id": "Vte1soN9hRh6",
        "outputId": "73f23d9f-4f71-476f-8580-385b2a91b67d"
      },
      "execution_count": null,
      "outputs": [
        {
          "output_type": "execute_result",
          "data": {
            "text/plain": [
              "   id  surgery  age  hospital_number  rectal_temp  pulse  respiratory_rate  \\\n",
              "0   0        1    0           530001         38.1  132.0              24.0   \n",
              "1   1        1    0           533836         37.5   88.0              12.0   \n",
              "2   2        1    0           529812         38.3  120.0              28.0   \n",
              "\n",
              "   temp_of_extremities  nasogastric_reflux_ph  packed_cell_volume  \\\n",
              "0                    2                    6.5                57.0   \n",
              "1                    2                    2.0                33.0   \n",
              "2                    2                    3.5                37.0   \n",
              "\n",
              "   total_protein  abdomo_protein  surgical_lesion  lesion_1  cp_data  \n",
              "0            8.5             3.4                1      2209        0  \n",
              "1           64.0             2.0                1      2208        0  \n",
              "2            6.4             3.4                1      5124        0  "
            ],
            "text/html": [
              "\n",
              "  <div id=\"df-b6d8ce08-dbc8-4da1-bf38-8d4085f7d240\" class=\"colab-df-container\">\n",
              "    <div>\n",
              "<style scoped>\n",
              "    .dataframe tbody tr th:only-of-type {\n",
              "        vertical-align: middle;\n",
              "    }\n",
              "\n",
              "    .dataframe tbody tr th {\n",
              "        vertical-align: top;\n",
              "    }\n",
              "\n",
              "    .dataframe thead th {\n",
              "        text-align: right;\n",
              "    }\n",
              "</style>\n",
              "<table border=\"1\" class=\"dataframe\">\n",
              "  <thead>\n",
              "    <tr style=\"text-align: right;\">\n",
              "      <th></th>\n",
              "      <th>id</th>\n",
              "      <th>surgery</th>\n",
              "      <th>age</th>\n",
              "      <th>hospital_number</th>\n",
              "      <th>rectal_temp</th>\n",
              "      <th>pulse</th>\n",
              "      <th>respiratory_rate</th>\n",
              "      <th>temp_of_extremities</th>\n",
              "      <th>nasogastric_reflux_ph</th>\n",
              "      <th>packed_cell_volume</th>\n",
              "      <th>total_protein</th>\n",
              "      <th>abdomo_protein</th>\n",
              "      <th>surgical_lesion</th>\n",
              "      <th>lesion_1</th>\n",
              "      <th>cp_data</th>\n",
              "    </tr>\n",
              "  </thead>\n",
              "  <tbody>\n",
              "    <tr>\n",
              "      <th>0</th>\n",
              "      <td>0</td>\n",
              "      <td>1</td>\n",
              "      <td>0</td>\n",
              "      <td>530001</td>\n",
              "      <td>38.1</td>\n",
              "      <td>132.0</td>\n",
              "      <td>24.0</td>\n",
              "      <td>2</td>\n",
              "      <td>6.5</td>\n",
              "      <td>57.0</td>\n",
              "      <td>8.5</td>\n",
              "      <td>3.4</td>\n",
              "      <td>1</td>\n",
              "      <td>2209</td>\n",
              "      <td>0</td>\n",
              "    </tr>\n",
              "    <tr>\n",
              "      <th>1</th>\n",
              "      <td>1</td>\n",
              "      <td>1</td>\n",
              "      <td>0</td>\n",
              "      <td>533836</td>\n",
              "      <td>37.5</td>\n",
              "      <td>88.0</td>\n",
              "      <td>12.0</td>\n",
              "      <td>2</td>\n",
              "      <td>2.0</td>\n",
              "      <td>33.0</td>\n",
              "      <td>64.0</td>\n",
              "      <td>2.0</td>\n",
              "      <td>1</td>\n",
              "      <td>2208</td>\n",
              "      <td>0</td>\n",
              "    </tr>\n",
              "    <tr>\n",
              "      <th>2</th>\n",
              "      <td>2</td>\n",
              "      <td>1</td>\n",
              "      <td>0</td>\n",
              "      <td>529812</td>\n",
              "      <td>38.3</td>\n",
              "      <td>120.0</td>\n",
              "      <td>28.0</td>\n",
              "      <td>2</td>\n",
              "      <td>3.5</td>\n",
              "      <td>37.0</td>\n",
              "      <td>6.4</td>\n",
              "      <td>3.4</td>\n",
              "      <td>1</td>\n",
              "      <td>5124</td>\n",
              "      <td>0</td>\n",
              "    </tr>\n",
              "  </tbody>\n",
              "</table>\n",
              "</div>\n",
              "    <div class=\"colab-df-buttons\">\n",
              "\n",
              "  <div class=\"colab-df-container\">\n",
              "    <button class=\"colab-df-convert\" onclick=\"convertToInteractive('df-b6d8ce08-dbc8-4da1-bf38-8d4085f7d240')\"\n",
              "            title=\"Convert this dataframe to an interactive table.\"\n",
              "            style=\"display:none;\">\n",
              "\n",
              "  <svg xmlns=\"http://www.w3.org/2000/svg\" height=\"24px\" viewBox=\"0 -960 960 960\">\n",
              "    <path d=\"M120-120v-720h720v720H120Zm60-500h600v-160H180v160Zm220 220h160v-160H400v160Zm0 220h160v-160H400v160ZM180-400h160v-160H180v160Zm440 0h160v-160H620v160ZM180-180h160v-160H180v160Zm440 0h160v-160H620v160Z\"/>\n",
              "  </svg>\n",
              "    </button>\n",
              "\n",
              "  <style>\n",
              "    .colab-df-container {\n",
              "      display:flex;\n",
              "      gap: 12px;\n",
              "    }\n",
              "\n",
              "    .colab-df-convert {\n",
              "      background-color: #E8F0FE;\n",
              "      border: none;\n",
              "      border-radius: 50%;\n",
              "      cursor: pointer;\n",
              "      display: none;\n",
              "      fill: #1967D2;\n",
              "      height: 32px;\n",
              "      padding: 0 0 0 0;\n",
              "      width: 32px;\n",
              "    }\n",
              "\n",
              "    .colab-df-convert:hover {\n",
              "      background-color: #E2EBFA;\n",
              "      box-shadow: 0px 1px 2px rgba(60, 64, 67, 0.3), 0px 1px 3px 1px rgba(60, 64, 67, 0.15);\n",
              "      fill: #174EA6;\n",
              "    }\n",
              "\n",
              "    .colab-df-buttons div {\n",
              "      margin-bottom: 4px;\n",
              "    }\n",
              "\n",
              "    [theme=dark] .colab-df-convert {\n",
              "      background-color: #3B4455;\n",
              "      fill: #D2E3FC;\n",
              "    }\n",
              "\n",
              "    [theme=dark] .colab-df-convert:hover {\n",
              "      background-color: #434B5C;\n",
              "      box-shadow: 0px 1px 3px 1px rgba(0, 0, 0, 0.15);\n",
              "      filter: drop-shadow(0px 1px 2px rgba(0, 0, 0, 0.3));\n",
              "      fill: #FFFFFF;\n",
              "    }\n",
              "  </style>\n",
              "\n",
              "    <script>\n",
              "      const buttonEl =\n",
              "        document.querySelector('#df-b6d8ce08-dbc8-4da1-bf38-8d4085f7d240 button.colab-df-convert');\n",
              "      buttonEl.style.display =\n",
              "        google.colab.kernel.accessAllowed ? 'block' : 'none';\n",
              "\n",
              "      async function convertToInteractive(key) {\n",
              "        const element = document.querySelector('#df-b6d8ce08-dbc8-4da1-bf38-8d4085f7d240');\n",
              "        const dataTable =\n",
              "          await google.colab.kernel.invokeFunction('convertToInteractive',\n",
              "                                                    [key], {});\n",
              "        if (!dataTable) return;\n",
              "\n",
              "        const docLinkHtml = 'Like what you see? Visit the ' +\n",
              "          '<a target=\"_blank\" href=https://colab.research.google.com/notebooks/data_table.ipynb>data table notebook</a>'\n",
              "          + ' to learn more about interactive tables.';\n",
              "        element.innerHTML = '';\n",
              "        dataTable['output_type'] = 'display_data';\n",
              "        await google.colab.output.renderOutput(dataTable, element);\n",
              "        const docLink = document.createElement('div');\n",
              "        docLink.innerHTML = docLinkHtml;\n",
              "        element.appendChild(docLink);\n",
              "      }\n",
              "    </script>\n",
              "  </div>\n",
              "\n",
              "\n",
              "<div id=\"df-103bfc23-2b86-44da-a39d-cf1d0121faa6\">\n",
              "  <button class=\"colab-df-quickchart\" onclick=\"quickchart('df-103bfc23-2b86-44da-a39d-cf1d0121faa6')\"\n",
              "            title=\"Suggest charts\"\n",
              "            style=\"display:none;\">\n",
              "\n",
              "<svg xmlns=\"http://www.w3.org/2000/svg\" height=\"24px\"viewBox=\"0 0 24 24\"\n",
              "     width=\"24px\">\n",
              "    <g>\n",
              "        <path d=\"M19 3H5c-1.1 0-2 .9-2 2v14c0 1.1.9 2 2 2h14c1.1 0 2-.9 2-2V5c0-1.1-.9-2-2-2zM9 17H7v-7h2v7zm4 0h-2V7h2v10zm4 0h-2v-4h2v4z\"/>\n",
              "    </g>\n",
              "</svg>\n",
              "  </button>\n",
              "\n",
              "<style>\n",
              "  .colab-df-quickchart {\n",
              "      --bg-color: #E8F0FE;\n",
              "      --fill-color: #1967D2;\n",
              "      --hover-bg-color: #E2EBFA;\n",
              "      --hover-fill-color: #174EA6;\n",
              "      --disabled-fill-color: #AAA;\n",
              "      --disabled-bg-color: #DDD;\n",
              "  }\n",
              "\n",
              "  [theme=dark] .colab-df-quickchart {\n",
              "      --bg-color: #3B4455;\n",
              "      --fill-color: #D2E3FC;\n",
              "      --hover-bg-color: #434B5C;\n",
              "      --hover-fill-color: #FFFFFF;\n",
              "      --disabled-bg-color: #3B4455;\n",
              "      --disabled-fill-color: #666;\n",
              "  }\n",
              "\n",
              "  .colab-df-quickchart {\n",
              "    background-color: var(--bg-color);\n",
              "    border: none;\n",
              "    border-radius: 50%;\n",
              "    cursor: pointer;\n",
              "    display: none;\n",
              "    fill: var(--fill-color);\n",
              "    height: 32px;\n",
              "    padding: 0;\n",
              "    width: 32px;\n",
              "  }\n",
              "\n",
              "  .colab-df-quickchart:hover {\n",
              "    background-color: var(--hover-bg-color);\n",
              "    box-shadow: 0 1px 2px rgba(60, 64, 67, 0.3), 0 1px 3px 1px rgba(60, 64, 67, 0.15);\n",
              "    fill: var(--button-hover-fill-color);\n",
              "  }\n",
              "\n",
              "  .colab-df-quickchart-complete:disabled,\n",
              "  .colab-df-quickchart-complete:disabled:hover {\n",
              "    background-color: var(--disabled-bg-color);\n",
              "    fill: var(--disabled-fill-color);\n",
              "    box-shadow: none;\n",
              "  }\n",
              "\n",
              "  .colab-df-spinner {\n",
              "    border: 2px solid var(--fill-color);\n",
              "    border-color: transparent;\n",
              "    border-bottom-color: var(--fill-color);\n",
              "    animation:\n",
              "      spin 1s steps(1) infinite;\n",
              "  }\n",
              "\n",
              "  @keyframes spin {\n",
              "    0% {\n",
              "      border-color: transparent;\n",
              "      border-bottom-color: var(--fill-color);\n",
              "      border-left-color: var(--fill-color);\n",
              "    }\n",
              "    20% {\n",
              "      border-color: transparent;\n",
              "      border-left-color: var(--fill-color);\n",
              "      border-top-color: var(--fill-color);\n",
              "    }\n",
              "    30% {\n",
              "      border-color: transparent;\n",
              "      border-left-color: var(--fill-color);\n",
              "      border-top-color: var(--fill-color);\n",
              "      border-right-color: var(--fill-color);\n",
              "    }\n",
              "    40% {\n",
              "      border-color: transparent;\n",
              "      border-right-color: var(--fill-color);\n",
              "      border-top-color: var(--fill-color);\n",
              "    }\n",
              "    60% {\n",
              "      border-color: transparent;\n",
              "      border-right-color: var(--fill-color);\n",
              "    }\n",
              "    80% {\n",
              "      border-color: transparent;\n",
              "      border-right-color: var(--fill-color);\n",
              "      border-bottom-color: var(--fill-color);\n",
              "    }\n",
              "    90% {\n",
              "      border-color: transparent;\n",
              "      border-bottom-color: var(--fill-color);\n",
              "    }\n",
              "  }\n",
              "</style>\n",
              "\n",
              "  <script>\n",
              "    async function quickchart(key) {\n",
              "      const quickchartButtonEl =\n",
              "        document.querySelector('#' + key + ' button');\n",
              "      quickchartButtonEl.disabled = true;  // To prevent multiple clicks.\n",
              "      quickchartButtonEl.classList.add('colab-df-spinner');\n",
              "      try {\n",
              "        const charts = await google.colab.kernel.invokeFunction(\n",
              "            'suggestCharts', [key], {});\n",
              "      } catch (error) {\n",
              "        console.error('Error during call to suggestCharts:', error);\n",
              "      }\n",
              "      quickchartButtonEl.classList.remove('colab-df-spinner');\n",
              "      quickchartButtonEl.classList.add('colab-df-quickchart-complete');\n",
              "    }\n",
              "    (() => {\n",
              "      let quickchartButtonEl =\n",
              "        document.querySelector('#df-103bfc23-2b86-44da-a39d-cf1d0121faa6 button');\n",
              "      quickchartButtonEl.style.display =\n",
              "        google.colab.kernel.accessAllowed ? 'block' : 'none';\n",
              "    })();\n",
              "  </script>\n",
              "</div>\n",
              "    </div>\n",
              "  </div>\n"
            ]
          },
          "metadata": {},
          "execution_count": 4
        }
      ]
    },
    {
      "cell_type": "code",
      "source": [
        "data.drop(columns=['id'], inplace=True)"
      ],
      "metadata": {
        "id": "tAVJW1GthbeX"
      },
      "execution_count": null,
      "outputs": []
    },
    {
      "cell_type": "markdown",
      "source": [
        "### Check if dataset is balanced, or if not applicable give your reasons why\n",
        "\n"
      ],
      "metadata": {
        "id": "jGbC7XczWhMZ"
      }
    },
    {
      "cell_type": "code",
      "source": [
        "data[['packed_cell_volume']].plot.hist()  # data is numerical, not applicable to classify data in different categories, hence we can't talk about the balance of dataset"
      ],
      "metadata": {
        "id": "DCSbhKw4Wh5x",
        "colab": {
          "base_uri": "https://localhost:8080/",
          "height": 447
        },
        "outputId": "f7449c90-a37d-46e3-ba96-0983e59b5fe1"
      },
      "execution_count": null,
      "outputs": [
        {
          "output_type": "execute_result",
          "data": {
            "text/plain": [
              "<Axes: ylabel='Frequency'>"
            ]
          },
          "metadata": {},
          "execution_count": 6
        },
        {
          "output_type": "display_data",
          "data": {
            "text/plain": [
              "<Figure size 640x480 with 1 Axes>"
            ],
            "image/png": "[encoded data removed]"
          },
          "metadata": {}
        }
      ]
    },
    {
      "cell_type": "markdown",
      "source": [
        "### Perform all necessary transformations of the data"
      ],
      "metadata": {
        "id": "AO0vT8RtScsx"
      }
    },
    {
      "cell_type": "code",
      "source": [
        "msno.matrix(data)"
      ],
      "metadata": {
        "id": "iqdpakElSgoX"
      },
      "execution_count": null,
      "outputs": []
    },
    {
      "cell_type": "code",
      "source": [
        "X, Y = data.drop(columns=['packed_cell_volume']), data['packed_cell_volume']"
      ],
      "metadata": {
        "id": "pX8yN-l8iJDa"
      },
      "execution_count": null,
      "outputs": []
    },
    {
      "cell_type": "markdown",
      "source": [
        "### Hyper-parameter tuning and cross-validation"
      ],
      "metadata": {
        "id": "ybeI7j5OShTc"
      }
    },
    {
      "cell_type": "markdown",
      "source": [
        "Choose a metric to optimize, choose hyper parameter values to experiment with, perform 5-fold cross-validation."
      ],
      "metadata": {
        "id": "9aDMYqXmSsWK"
      }
    },
    {
      "cell_type": "code",
      "source": [
        "from sklearn.tree import DecisionTreeRegressor\n",
        "from sklearn.model_selection import train_test_split\n",
        "from sklearn.metrics import mean_absolute_error, mean_squared_error, r2_score\n",
        "from sklearn.preprocessing import PolynomialFeatures\n",
        "from sklearn.model_selection import KFold\n",
        "from sklearn.preprocessing import StandardScaler\n"
      ],
      "metadata": {
        "id": "HHdPIOGdSliO"
      },
      "execution_count": null,
      "outputs": []
    },
    {
      "cell_type": "code",
      "source": [
        "DecisionTreeRegressor()\n",
        "scaler = StandardScaler()\n",
        "scores = []\n",
        "for max_depth in [5, 10, 15, 20]:\n",
        "  for criterion in [\"squared_error\", \"friedman_mse\", \"absolute_error\"]:\n",
        "    for min_samples_split in [2, 5, 10, 20]:\n",
        "      kfold = KFold(n_splits=6)\n",
        "      for train_index, test_index in kfold.split(X):\n",
        "        X_train, Y_train = X.values[train_index], Y.values[train_index]\n",
        "        X_test, Y_test = X.values[test_index], Y.values[test_index]\n",
        "        scaler.fit(X_train)\n",
        "        X_train = scaler.transform(X_train)\n",
        "        X_test = scaler.transform(X_test)\n",
        "        Y_train = scaler.fit_transform(Y_train.reshape(-1, 1))\n",
        "        model = DecisionTreeRegressor(criterion=criterion, max_depth=max_depth, min_samples_split=min_samples_split)\n",
        "        model.fit(X_train, Y_train)\n",
        "        preds = model.predict(X_test)\n",
        "        preds = scaler.inverse_transform(preds.reshape(-1, 1))\n",
        "        scores.append((max_depth, criterion, min_samples_split, mean_squared_error(Y_test, preds)))"
      ],
      "metadata": {
        "id": "3MBzQ3hsikxM"
      },
      "execution_count": null,
      "outputs": []
    },
    {
      "cell_type": "code",
      "source": [
        "min = float('+inf')\n",
        "for score in scores:\n",
        "  if score[3] < min:\n",
        "    min = score[3]"
      ],
      "metadata": {
        "id": "NoXZursakPYL"
      },
      "execution_count": null,
      "outputs": []
    },
    {
      "cell_type": "code",
      "source": [
        "min  # best score for (5, 'absolute_error', 2, 74.5910931174089)"
      ],
      "metadata": {
        "colab": {
          "base_uri": "https://localhost:8080/"
        },
        "id": "HE37rDegkuRH",
        "outputId": "838442c6-6446-496c-d6df-55598f6531a8"
      },
      "execution_count": null,
      "outputs": [
        {
          "output_type": "execute_result",
          "data": {
            "text/plain": [
              "74.5910931174089"
            ]
          },
          "metadata": {},
          "execution_count": 20
        }
      ]
    },
    {
      "cell_type": "code",
      "source": [
        "scores"
      ],
      "metadata": {
        "colab": {
          "base_uri": "https://localhost:8080/"
        },
        "id": "4hjQMVEVkweP",
        "outputId": "133b5003-fb52-44ea-d455-bb06187826a3"
      },
      "execution_count": null,
      "outputs": [
        {
          "output_type": "execute_result",
          "data": {
            "text/plain": [
              "[(5, 'squared_error', 2, 90.33369229538242),\n",
              " (5, 'squared_error', 2, 77.80760334699073),\n",
              " (5, 'squared_error', 2, 80.69313941615896),\n",
              " (5, 'squared_error', 2, 79.51047612608085),\n",
              " (5, 'squared_error', 2, 84.0718654952445),\n",
              " (5, 'squared_error', 5, 87.68794330752816),\n",
              " (5, 'squared_error', 5, 77.82379767897456),\n",
              " (5, 'squared_error', 5, 80.60474535408069),\n",
              " (5, 'squared_error', 5, 79.51047612608085),\n",
              " (5, 'squared_error', 5, 84.5403765163871),\n",
              " (5, 'squared_error', 10, 87.25005644293077),\n",
              " (5, 'squared_error', 10, 77.82379767897456),\n",
              " (5, 'squared_error', 10, 76.74834001782341),\n",
              " (5, 'squared_error', 10, 79.091529838914),\n",
              " (5, 'squared_error', 10, 80.94088026545755),\n",
              " (5, 'squared_error', 20, 88.8526202463172),\n",
              " (5, 'squared_error', 20, 78.95009993989919),\n",
              " (5, 'squared_error', 20, 77.13377958932591),\n",
              " (5, 'squared_error', 20, 79.36729931959577),\n",
              " (5, 'squared_error', 20, 82.0272217287618),\n",
              " (5, 'friedman_mse', 2, 90.44078293865728),\n",
              " (5, 'friedman_mse', 2, 77.80760334699073),\n",
              " (5, 'friedman_mse', 2, 80.61205529560118),\n",
              " (5, 'friedman_mse', 2, 79.51047612608085),\n",
              " (5, 'friedman_mse', 2, 86.51619747905016),\n",
              " (5, 'friedman_mse', 5, 89.92458860667347),\n",
              " (5, 'friedman_mse', 5, 77.82379767897454),\n",
              " (5, 'friedman_mse', 5, 80.60474535408069),\n",
              " (5, 'friedman_mse', 5, 79.51047612608085),\n",
              " (5, 'friedman_mse', 5, 84.54037651638708),\n",
              " (5, 'friedman_mse', 10, 87.25005644293077),\n",
              " (5, 'friedman_mse', 10, 77.82379767897454),\n",
              " (5, 'friedman_mse', 10, 76.74834001782341),\n",
              " (5, 'friedman_mse', 10, 79.091529838914),\n",
              " (5, 'friedman_mse', 10, 84.78444048812963),\n",
              " (5, 'friedman_mse', 20, 88.85262024631722),\n",
              " (5, 'friedman_mse', 20, 78.9500999398992),\n",
              " (5, 'friedman_mse', 20, 77.13377958932591),\n",
              " (5, 'friedman_mse', 20, 79.36729931959577),\n",
              " (5, 'friedman_mse', 20, 82.0272217287618),\n",
              " (5, 'absolute_error', 2, 104.62753036437248),\n",
              " (5, 'absolute_error', 2, 76.85627530364373),\n",
              " (5, 'absolute_error', 2, 74.5910931174089),\n",
              " (5, 'absolute_error', 2, 79.65991902834008),\n",
              " (5, 'absolute_error', 2, 89.16093117408907),\n",
              " (5, 'absolute_error', 5, 107.5425101214575),\n",
              " (5, 'absolute_error', 5, 76.79959514170041),\n",
              " (5, 'absolute_error', 5, 76.92307692307692),\n",
              " (5, 'absolute_error', 5, 79.65991902834008),\n",
              " (5, 'absolute_error', 5, 89.16093117408907),\n",
              " (5, 'absolute_error', 10, 104.29048582995951),\n",
              " (5, 'absolute_error', 10, 77.93825910931174),\n",
              " (5, 'absolute_error', 10, 75.30364372469636),\n",
              " (5, 'absolute_error', 10, 79.65991902834008),\n",
              " (5, 'absolute_error', 10, 89.92206477732793),\n",
              " (5, 'absolute_error', 20, 107.5425101214575),\n",
              " (5, 'absolute_error', 20, 77.81680161943319),\n",
              " (5, 'absolute_error', 20, 74.72064777327935),\n",
              " (5, 'absolute_error', 20, 78.35728744939271),\n",
              " (5, 'absolute_error', 20, 91.59514170040485),\n",
              " (10, 'squared_error', 2, 107.12507197450984),\n",
              " (10, 'squared_error', 2, 96.59606445617106),\n",
              " (10, 'squared_error', 2, 127.05903111988182),\n",
              " (10, 'squared_error', 2, 110.88893204941225),\n",
              " (10, 'squared_error', 2, 129.25257232561367),\n",
              " (10, 'squared_error', 5, 99.27044597352901),\n",
              " (10, 'squared_error', 5, 100.04036523214947),\n",
              " (10, 'squared_error', 5, 117.18971497237017),\n",
              " (10, 'squared_error', 5, 108.81582560541764),\n",
              " (10, 'squared_error', 5, 120.86567460248979),\n",
              " (10, 'squared_error', 10, 96.1021091528958),\n",
              " (10, 'squared_error', 10, 93.73870639504976),\n",
              " (10, 'squared_error', 10, 100.05200981553988),\n",
              " (10, 'squared_error', 10, 104.38784143686644),\n",
              " (10, 'squared_error', 10, 112.42093890220428),\n",
              " (10, 'squared_error', 20, 94.08708786885303),\n",
              " (10, 'squared_error', 20, 88.75324463887237),\n",
              " (10, 'squared_error', 20, 94.90998503494174),\n",
              " (10, 'squared_error', 20, 102.17200717718367),\n",
              " (10, 'squared_error', 20, 101.26321023531527),\n",
              " (10, 'friedman_mse', 2, 109.03704252443006),\n",
              " (10, 'friedman_mse', 2, 99.91539643997673),\n",
              " (10, 'friedman_mse', 2, 119.67189549235145),\n",
              " (10, 'friedman_mse', 2, 108.71786692220677),\n",
              " (10, 'friedman_mse', 2, 130.8742895407053),\n",
              " (10, 'friedman_mse', 5, 107.74881539900514),\n",
              " (10, 'friedman_mse', 5, 97.17722280075046),\n",
              " (10, 'friedman_mse', 5, 114.80338591144098),\n",
              " (10, 'friedman_mse', 5, 107.0501935766277),\n",
              " (10, 'friedman_mse', 5, 123.99231933933189),\n",
              " (10, 'friedman_mse', 10, 96.05657545976959),\n",
              " (10, 'friedman_mse', 10, 91.10405377000832),\n",
              " (10, 'friedman_mse', 10, 99.73248237404387),\n",
              " (10, 'friedman_mse', 10, 104.38784143686644),\n",
              " (10, 'friedman_mse', 10, 111.57318750252114),\n",
              " (10, 'friedman_mse', 20, 96.58209600513614),\n",
              " (10, 'friedman_mse', 20, 86.47498718204349),\n",
              " (10, 'friedman_mse', 20, 95.22951247643773),\n",
              " (10, 'friedman_mse', 20, 102.17200717718367),\n",
              " (10, 'friedman_mse', 20, 100.9809109274),\n",
              " (10, 'absolute_error', 2, 138.79757085020242),\n",
              " (10, 'absolute_error', 2, 103.167004048583),\n",
              " (10, 'absolute_error', 2, 111.49595141700405),\n",
              " (10, 'absolute_error', 2, 97.4342105263158),\n",
              " (10, 'absolute_error', 2, 108.36032388663968),\n",
              " (10, 'absolute_error', 5, 138.26518218623482),\n",
              " (10, 'absolute_error', 5, 97.03871457489879),\n",
              " (10, 'absolute_error', 5, 103.32540485829959),\n",
              " (10, 'absolute_error', 5, 103.01113360323886),\n",
              " (10, 'absolute_error', 5, 104.79276315789474),\n",
              " (10, 'absolute_error', 10, 142.248987854251),\n",
              " (10, 'absolute_error', 10, 96.32894736842105),\n",
              " (10, 'absolute_error', 10, 95.1002024291498),\n",
              " (10, 'absolute_error', 10, 99.06072874493927),\n",
              " (10, 'absolute_error', 10, 100.50404858299595),\n",
              " (10, 'absolute_error', 20, 140.76012145748987),\n",
              " (10, 'absolute_error', 20, 94.11336032388664),\n",
              " (10, 'absolute_error', 20, 83.78643724696356),\n",
              " (10, 'absolute_error', 20, 89.82793522267207),\n",
              " (10, 'absolute_error', 20, 102.71255060728745),\n",
              " (15, 'squared_error', 2, 125.67774994987705),\n",
              " (15, 'squared_error', 2, 103.8380526290718),\n",
              " (15, 'squared_error', 2, 141.47360874555667),\n",
              " (15, 'squared_error', 2, 124.27820298458612),\n",
              " (15, 'squared_error', 2, 151.84788352958418),\n",
              " (15, 'squared_error', 5, 110.82940312126706),\n",
              " (15, 'squared_error', 5, 104.77307849501871),\n",
              " (15, 'squared_error', 5, 126.80801045495842),\n",
              " (15, 'squared_error', 5, 122.3566982555015),\n",
              " (15, 'squared_error', 5, 136.1739010172135),\n",
              " (15, 'squared_error', 10, 111.7655821046688),\n",
              " (15, 'squared_error', 10, 96.82888019640664),\n",
              " (15, 'squared_error', 10, 103.87197101359708),\n",
              " (15, 'squared_error', 10, 113.73042817643224),\n",
              " (15, 'squared_error', 10, 118.55430885970152),\n",
              " (15, 'squared_error', 20, 102.61460121281844),\n",
              " (15, 'squared_error', 20, 86.13665664887716),\n",
              " (15, 'squared_error', 20, 97.4744132833328),\n",
              " (15, 'squared_error', 20, 105.01394089426411),\n",
              " (15, 'squared_error', 20, 106.54078800045608),\n",
              " (15, 'friedman_mse', 2, 121.59062382157298),\n",
              " (15, 'friedman_mse', 2, 113.81460683509968),\n",
              " (15, 'friedman_mse', 2, 128.09157995563316),\n",
              " (15, 'friedman_mse', 2, 129.18507657882813),\n",
              " (15, 'friedman_mse', 2, 143.3983048386599),\n",
              " (15, 'friedman_mse', 5, 121.16757226206781),\n",
              " (15, 'friedman_mse', 5, 104.00206466236016),\n",
              " (15, 'friedman_mse', 5, 126.1142688895063),\n",
              " (15, 'friedman_mse', 5, 121.71430384643392),\n",
              " (15, 'friedman_mse', 5, 138.1462113838691),\n",
              " (15, 'friedman_mse', 10, 105.4110798490433),\n",
              " (15, 'friedman_mse', 10, 91.32951997248502),\n",
              " (15, 'friedman_mse', 10, 103.90515939766266),\n",
              " (15, 'friedman_mse', 10, 113.13845206131234),\n",
              " (15, 'friedman_mse', 10, 123.00485963567994),\n",
              " (15, 'friedman_mse', 20, 102.03302908832468),\n",
              " (15, 'friedman_mse', 20, 86.13665664887716),\n",
              " (15, 'friedman_mse', 20, 97.66822337948663),\n",
              " (15, 'friedman_mse', 20, 104.32439106023544),\n",
              " (15, 'friedman_mse', 20, 106.54078800045608),\n",
              " (15, 'absolute_error', 2, 154.41801619433198),\n",
              " (15, 'absolute_error', 2, 114.77226720647774),\n",
              " (15, 'absolute_error', 2, 139.6417004048583),\n",
              " (15, 'absolute_error', 2, 123.60425101214575),\n",
              " (15, 'absolute_error', 2, 122.99493927125506),\n",
              " (15, 'absolute_error', 5, 153.6406882591093),\n",
              " (15, 'absolute_error', 5, 124.14827935222672),\n",
              " (15, 'absolute_error', 5, 143.4428137651822),\n",
              " (15, 'absolute_error', 5, 120.53567813765183),\n",
              " (15, 'absolute_error', 5, 121.29681174089069),\n",
              " (15, 'absolute_error', 10, 162.83805668016194),\n",
              " (15, 'absolute_error', 10, 117.42408906882591),\n",
              " (15, 'absolute_error', 10, 121.03238866396761),\n",
              " (15, 'absolute_error', 10, 110.13157894736842),\n",
              " (15, 'absolute_error', 10, 121.62955465587045),\n",
              " (15, 'absolute_error', 20, 150.23582995951418),\n",
              " (15, 'absolute_error', 20, 105.5414979757085),\n",
              " (15, 'absolute_error', 20, 95.71761133603239),\n",
              " (15, 'absolute_error', 20, 99.34615384615384),\n",
              " (15, 'absolute_error', 20, 104.50708502024291),\n",
              " (20, 'squared_error', 2, 127.34755365348644),\n",
              " (20, 'squared_error', 2, 116.34404157524459),\n",
              " (20, 'squared_error', 2, 142.58888581066464),\n",
              " (20, 'squared_error', 2, 135.67701219392035),\n",
              " (20, 'squared_error', 2, 146.31447781541766),\n",
              " (20, 'squared_error', 5, 111.32123786401276),\n",
              " (20, 'squared_error', 5, 100.60136557434491),\n",
              " (20, 'squared_error', 5, 132.38131158664305),\n",
              " (20, 'squared_error', 5, 124.72118110979977),\n",
              " (20, 'squared_error', 5, 147.19176920093273),\n",
              " (20, 'squared_error', 10, 109.84677000046908),\n",
              " (20, 'squared_error', 10, 93.4754671354503),\n",
              " (20, 'squared_error', 10, 108.36268390193219),\n",
              " (20, 'squared_error', 10, 114.11948346513611),\n",
              " (20, 'squared_error', 10, 119.54978904258512),\n",
              " (20, 'squared_error', 20, 100.61250464098005),\n",
              " (20, 'squared_error', 20, 87.1060938830686),\n",
              " (20, 'squared_error', 20, 99.18410138874977),\n",
              " (20, 'squared_error', 20, 106.26787616510752),\n",
              " (20, 'squared_error', 20, 108.19645563775349),\n",
              " (20, 'friedman_mse', 2, 127.68358604215041),\n",
              " (20, 'friedman_mse', 2, 110.10846465216765),\n",
              " (20, 'friedman_mse', 2, 134.39860240985493),\n",
              " (20, 'friedman_mse', 2, 132.44118223440617),\n",
              " (20, 'friedman_mse', 2, 141.29018631744196),\n",
              " (20, 'friedman_mse', 5, 118.5175097938373),\n",
              " (20, 'friedman_mse', 5, 106.36291430652331),\n",
              " (20, 'friedman_mse', 5, 134.4593311547942),\n",
              " (20, 'friedman_mse', 5, 125.66851438690279),\n",
              " (20, 'friedman_mse', 5, 140.6701837870776),\n",
              " (20, 'friedman_mse', 10, 103.75470716123831),\n",
              " (20, 'friedman_mse', 10, 98.03074216419023),\n",
              " (20, 'friedman_mse', 10, 108.47199564282288),\n",
              " (20, 'friedman_mse', 10, 113.82406302842419),\n",
              " (20, 'friedman_mse', 10, 120.57475700532878),\n",
              " (20, 'friedman_mse', 20, 102.36231788108334),\n",
              " (20, 'friedman_mse', 20, 89.5756468864562),\n",
              " (20, 'friedman_mse', 20, 99.37791148490362),\n",
              " (20, 'friedman_mse', 20, 106.26787616510752),\n",
              " (20, 'friedman_mse', 20, 108.1980385773063),\n",
              " (20, 'absolute_error', 2, 172.5253036437247),\n",
              " (20, 'absolute_error', 2, 134.26113360323887),\n",
              " (20, 'absolute_error', 2, 135.44736842105263),\n",
              " (20, 'absolute_error', 2, 127.8248987854251),\n",
              " (20, 'absolute_error', 2, 127.04048582995951),\n",
              " (20, 'absolute_error', 5, 168.49595141700405),\n",
              " (20, 'absolute_error', 5, 115.72494939271255),\n",
              " (20, 'absolute_error', 5, 132.2656882591093),\n",
              " (20, 'absolute_error', 5, 123.70141700404858),\n",
              " (20, 'absolute_error', 5, 129.52555668016194),\n",
              " (20, 'absolute_error', 10, 164.94736842105263),\n",
              " (20, 'absolute_error', 10, 108.26518218623482),\n",
              " (20, 'absolute_error', 10, 132.00708502024293),\n",
              " (20, 'absolute_error', 10, 111.37854251012146),\n",
              " (20, 'absolute_error', 10, 123.10425101214575),\n",
              " (20, 'absolute_error', 20, 150.9493927125506),\n",
              " (20, 'absolute_error', 20, 107.39777327935222),\n",
              " (20, 'absolute_error', 20, 100.9574898785425),\n",
              " (20, 'absolute_error', 20, 98.57388663967612),\n",
              " (20, 'absolute_error', 20, 114.59514170040485)]"
            ]
          },
          "metadata": {},
          "execution_count": 27
        }
      ]
    },
    {
      "cell_type": "markdown",
      "source": [
        "### Evaluate the performance of the best model using multiple metrics"
      ],
      "metadata": {
        "id": "1aPsXvKiSl6p"
      }
    },
    {
      "cell_type": "markdown",
      "source": [
        "Calculate metrics\n",
        "\n",
        "Display a confusion matrix if applicable"
      ],
      "metadata": {
        "id": "SEfLc5YYTKEj"
      }
    },
    {
      "cell_type": "code",
      "source": [
        "model = DecisionTreeRegressor(criterion='absolute_error', max_depth=5, min_samples_split=2)"
      ],
      "metadata": {
        "id": "6cYbpPX3SrvE"
      },
      "execution_count": null,
      "outputs": []
    },
    {
      "cell_type": "code",
      "source": [
        "X, Y = data.drop(columns=['packed_cell_volume']), data['packed_cell_volume']"
      ],
      "metadata": {
        "id": "dCDI38jplJXE"
      },
      "execution_count": null,
      "outputs": []
    },
    {
      "cell_type": "code",
      "source": [
        "X_train, X_test, Y_train, Y_test = train_test_split(X, Y, train_size=0.8)\n",
        "scaler.fit(X_train)\n",
        "X_train = scaler.transform(X_train)\n",
        "X_test = scaler.transform(X_test)\n",
        "model.fit(X_train, Y_train)\n",
        "preds = model.predict(X_test)"
      ],
      "metadata": {
        "id": "bmaTVe18lODs"
      },
      "execution_count": null,
      "outputs": []
    },
    {
      "cell_type": "code",
      "source": [
        " mean_squared_error(Y_test, preds)"
      ],
      "metadata": {
        "colab": {
          "base_uri": "https://localhost:8080/"
        },
        "id": "35R5cGivlZY7",
        "outputId": "bcd8e275-f44e-4605-92d5-342213bd2f49"
      },
      "execution_count": null,
      "outputs": [
        {
          "output_type": "execute_result",
          "data": {
            "text/plain": [
              "84.21406882591093"
            ]
          },
          "metadata": {},
          "execution_count": 26
        }
      ]
    }
  ]
}